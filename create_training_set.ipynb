{
 "cells": [
  {
   "cell_type": "code",
   "execution_count": 1,
   "metadata": {},
   "outputs": [],
   "source": [
    "from dataset_io import *"
   ]
  },
  {
   "cell_type": "code",
   "execution_count": 2,
   "metadata": {},
   "outputs": [],
   "source": [
    "contacts, contactlesses = read_dataset(DATASET_NAME)"
   ]
  },
  {
   "cell_type": "code",
   "execution_count": 14,
   "metadata": {},
   "outputs": [
    {
     "name": "stdout",
     "output_type": "stream",
     "text": [
      "<class 'numpy.ndarray'>\n",
      "[[520. 521. 523. ... 521. 520. 523.]\n",
      " [565. 656. 613. ... 518. 525. 549.]\n",
      " [517. 521. 529. ... 521. 521. 522.]\n",
      " ...\n",
      " [523. 517. 525. ... 524. 523. 523.]\n",
      " [525. 521. 517. ... 519. 521. 525.]\n",
      " [524. 518. 521. ... 523. 523. 524.]]\n",
      "<class 'numpy.float64'>\n",
      "(161, 1022)\n",
      "(161, 1022)\n"
     ]
    }
   ],
   "source": [
    "print(type(contactlesses[0]))\n",
    "print(contactlesses)\n",
    "print(type(contactlesses[0][0]))\n",
    "print(contactlesses.shape)\n",
    "print(contacts.shape)"
   ]
  },
  {
   "cell_type": "code",
   "execution_count": null,
   "metadata": {},
   "outputs": [],
   "source": [
    "def get_training_set(contacts, contactlesses, sample_length):\n",
    "    dataset_length, "
   ]
  }
 ],
 "metadata": {
  "kernelspec": {
   "display_name": "Python 3",
   "language": "python",
   "name": "python3"
  },
  "language_info": {
   "codemirror_mode": {
    "name": "ipython",
    "version": 3
   },
   "file_extension": ".py",
   "mimetype": "text/x-python",
   "name": "python",
   "nbconvert_exporter": "python",
   "pygments_lexer": "ipython3",
   "version": "3.7.3"
  }
 },
 "nbformat": 4,
 "nbformat_minor": 2
}
