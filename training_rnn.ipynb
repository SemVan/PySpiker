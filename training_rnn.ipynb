{
 "cells": [
  {
   "cell_type": "code",
   "execution_count": null,
   "metadata": {},
   "outputs": [],
   "source": [
    "%matplotlib inline\n",
    "from modelRNN import *\n",
    "from dataset_io import *"
   ]
  },
  {
   "cell_type": "code",
   "execution_count": null,
   "metadata": {},
   "outputs": [],
   "source": [
    "iterations = len(batches)\n",
    "m = 1\n",
    "running_loss = 0.0\n",
    "prev_time = time.time()\n",
    "\n",
    "print(\"Training\")\n",
    "for epoch in range(2):\n",
    "    losses = []\n",
    "    steps = []\n",
    "    for i, batch in enumerate(batches):\n",
    "        input_batch = batch[:, :2]\n",
    "        output_batch = batch[:, 2]\n",
    "        inputs = torch.from_numpy(np.asarray(input_batch)).float()\n",
    "        labels = torch.from_numpy(np.asarray(output_batch)).float()\n",
    "        optimizer.zero_grad()\n",
    "        \n",
    "        if ((i%m==0)&(i>0)):\n",
    "            curr_time = time.time()\n",
    "            # print('%d: 5 batches time: %.3f' % (i,curr_time-prev_time))\n",
    "            time_left = (curr_time - prev_time)*(iterations - i)/(m*3600)\n",
    "            # print('%d: epoch time left: %.3f hours' % (i, time_left))\n",
    "            prev_time = curr_time\n",
    "            hiddenLSTM1 = repackage_hidden(hiddenLSTM1)\n",
    "            hiddenLSTM2 = repackage_hidden(hiddenLSTM2)\n",
    "            \n",
    "        res1, hiddenLSTM1, hiddenLSTM2 = rnn.forward(inputs, hiddenLSTM1, hiddenLSTM2)\n",
    "        res = res1.squeeze()\n",
    "        loss = pearsonr(res, labels)\n",
    "        loss.backward(retain_graph=True)\n",
    "        optimizer.step()\n",
    "        running_loss += loss.item()\n",
    "        losses.append(loss.item())\n",
    "        steps.append(i)\n",
    "        if ((i % 5 == 0)&(i > 0)):\n",
    "                print('[%d, %5d] loss: %.4f' % (epoch + 1, i + 1, running_loss / 100))\n",
    "                print('Epoch time left: %.1f hours' % time_left)\n",
    "                running_loss = 0.0\n",
    "                draw_result(res1, input_batch, output_batch)\n",
    "\n",
    "    plt.plot(steps, losses)\n",
    "    plt.show()\n",
    "\n",
    "torch.save(rnn.state_dict(), 'modelRNN.pth')\n"
   ]
  },
  {
   "cell_type": "code",
   "execution_count": null,
   "metadata": {},
   "outputs": [],
   "source": []
  }
 ],
 "metadata": {
  "kernelspec": {
   "display_name": "Python 3",
   "language": "python",
   "name": "python3"
  },
  "language_info": {
   "codemirror_mode": {
    "name": "ipython",
    "version": 3
   },
   "file_extension": ".py",
   "mimetype": "text/x-python",
   "name": "python",
   "nbconvert_exporter": "python",
   "pygments_lexer": "ipython3",
   "version": "3.7.3"
  }
 },
 "nbformat": 4,
 "nbformat_minor": 2
}
