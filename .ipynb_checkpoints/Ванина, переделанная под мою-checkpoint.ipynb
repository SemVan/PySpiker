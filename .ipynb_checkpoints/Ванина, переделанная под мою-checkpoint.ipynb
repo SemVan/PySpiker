{
 "cells": [
  {
   "cell_type": "code",
   "execution_count": 1,
   "metadata": {},
   "outputs": [
    {
     "name": "stdout",
     "output_type": "stream",
     "text": [
      "DATASET LOADED\n",
      "(111,)\n"
     ]
    },
    {
     "data": {
      "text/plain": [
       "<Figure size 640x480 with 1 Axes>"
      ]
     },
     "metadata": {},
     "output_type": "display_data"
    },
    {
     "name": "stdout",
     "output_type": "stream",
     "text": [
      "(111,)\n"
     ]
    },
    {
     "data": {
      "text/plain": [
       "<Figure size 640x480 with 1 Axes>"
      ]
     },
     "metadata": {},
     "output_type": "display_data"
    }
   ],
   "source": [
    "import torch\n",
    "from torch import nn\n",
    "from torch.autograd import Variable\n",
    "import torch.nn.functional as F\n",
    "from torch.nn import Sigmoid\n",
    "import torch.optim as optim\n",
    "import pandas as pd\n",
    "import numpy as np\n",
    "from matplotlib import pyplot as plt\n",
    "from scipy.signal import gaussian\n",
    "\n",
    "\n",
    "def normalize_signal(signal):\n",
    "    signal = signal - np.mean(signal)\n",
    "    return signal / np.max(np.abs(signal))\n",
    "\n",
    "def read_dataset(filename):\n",
    "    return pd.read_csv(filename, header = None)\n",
    "\n",
    "\n",
    "def check_labels(labs):\n",
    "    pos = -1\n",
    "    for i, elem in enumerate(labs):\n",
    "        if elem == 1:\n",
    "            pos = i\n",
    "    if abs(pos - len(labs)/2) <25:\n",
    "        return 1\n",
    "    else:\n",
    "        return 0\n",
    "\n",
    "\n",
    "def build_labels(inputs1, inputs2, labels):\n",
    "    kernel = gaussian(21, 11)\n",
    "    inputs1 = normalize_signal(inputs1)\n",
    "    inputs2 = normalize_signal(inputs2)\n",
    "    res = np.convolve(labels, kernel, 'same')\n",
    "    return res[10:-10], inputs1[10:-10], inputs2[10:-10]\n",
    "\n",
    "\n",
    "\n",
    "def build_batch(inputs1, inputs2, labels):\n",
    "    n = 100\n",
    "    step = 5\n",
    "    data = []\n",
    "    lab = []\n",
    "    i = 100\n",
    "    while i < len(inputs1)-n:\n",
    "        data.append([np.asarray(inputs1[i:i+n]).astype(np.double), np.asarray(inputs2[i:i+n]).astype(np.double)])\n",
    "        # data.append(np.asarray(inputs1[i:i+n]).astype(np.double))\n",
    "        l = check_labels(labels[i:i+n])\n",
    "        lab.append(l)\n",
    "        # if l == 0:\n",
    "        #     plt.plot(range(n), inputs1[i:i+n])\n",
    "        #     plt.plot(range(n), inputs2[i:i+n])\n",
    "        #     plt.show()\n",
    "        i += step\n",
    "    ones = np.sum(lab)\n",
    "    final_data = []\n",
    "    final_lab = []\n",
    "    for i, elem in enumerate(data):\n",
    "        # print(lab[i])\n",
    "        if lab[i] == 0 and ones > 0:\n",
    "            final_data.append(elem)\n",
    "            final_lab.append(0)\n",
    "            ones -= 1\n",
    "        if lab[i] == 1:\n",
    "            final_data.append(elem)\n",
    "            final_lab.append(1)\n",
    "    return final_data, final_lab\n",
    "\n",
    "\n",
    "class RNN(nn.Module):\n",
    "    def __init__(self, input_size, hidden_size, output_size, n_layers=1):\n",
    "        super(RNN, self).__init__()\n",
    "        self.input_size = input_size\n",
    "        self.hidden_size = hidden_size\n",
    "        self.output_size = output_size\n",
    "        self.n_layers = n_layers\n",
    "\n",
    "        self.gru1 = nn.GRU(input_size, 5, batch_first=True)\n",
    "        # self.gru2 = nn.GRU(5, 7, batch_first=True)\n",
    "        self.gru3 = nn.GRU(5, 1, batch_first=True)\n",
    "        self.linear = nn.Linear(1, output_size, )\n",
    "\n",
    "\n",
    "    def forward(self, inputs, hidden1, hidden2, hidden3):\n",
    "        batch_size = inputs.size(0)\n",
    "        sigm = Sigmoid()\n",
    "        \n",
    "        inputs = inputs.transpose(1,2).transpose(0,1)\n",
    "        c, hidden1 = self.gru1(inputs, hidden1)\n",
    "        # c = c.transpose(0,1).transpose(1,2)\n",
    "        p = sigm(c)\n",
    "        \n",
    "        # p = p.transpose(1,2).transpose(0,1)\n",
    "        #  c, hidden2 = self.gru2(p, hidden2)\n",
    "        # c = c.transpose(0,1).transpose(1,2)\n",
    "        #  p = sigm(c)\n",
    "        \n",
    "        # p = p.transpose(1,2).transpose(0,1)\n",
    "        c, hidden3 = self.gru3(p, hidden3)\n",
    "        # c = c.transpose(0,1).transpose(1,2)\n",
    "        p = sigm(c)\n",
    "        \n",
    "        # p = p.transpose(1,2).transpose(0,1)\n",
    "        c = self.linear(p)\n",
    "        c = c.transpose(0,1).transpose(1,2)\n",
    "        # p = torch.tanh(c)\n",
    "        p = c\n",
    "        \n",
    "        return p, hidden1, hidden2, hidden3\n",
    "    \n",
    "    def init_hidden(self, batch_size):\n",
    "        # This method generates the first hidden state of zeros which we'll use in the forward pass\n",
    "        # We'll send the tensor holding the hidden state to the device we specified earlier as well\n",
    "        hidden = torch.zeros(self.n_layers, batch_size, self.hidden_size)\n",
    "        return hidden\n",
    "\n",
    "\n",
    "\n",
    "input_size = 2\n",
    "hidden_size = 5\n",
    "output_size = 1\n",
    "batch_size = 40\n",
    "n_layers = 2\n",
    "seq_len = 1\n",
    "\n",
    "rnn = RNN(input_size, hidden_size, output_size, n_layers=n_layers)\n",
    "criterion = nn.MSELoss()\n",
    "optimizer = optim.SGD(rnn.parameters(), lr=0.1, momentum=0.9)\n",
    "\n",
    "# hidden1 = rnn.init_hidden(batch_size)\n",
    "hidden1 = torch.zeros(1, 710, 5)\n",
    "hidden2 = torch.zeros(1, 710, 7)\n",
    "hidden3 = torch.zeros(1, 710, 1)\n",
    "\n",
    "dataset = read_dataset(\"dataset_contact.csv\")\n",
    "print(\"DATASET LOADED\")\n",
    "data = np.asarray([])\n",
    "labels = np.asarray([])\n",
    "\n",
    "\n",
    "epoch = 1\n",
    "running_loss = 0.0\n",
    "# hidden = None\n",
    "i = 0\n",
    "\n",
    "for epoch in range(2):\n",
    "    i = 0\n",
    "    losses = []\n",
    "    steps = []\n",
    "    while i < dataset.shape[0]-batch_size*3:\n",
    "\n",
    "        input_batch = []\n",
    "        output_batch = []\n",
    "        for j in range(batch_size):\n",
    "            input1 = dataset.iloc[i]\n",
    "            input2 = dataset.iloc[i+1]\n",
    "            labels = dataset.iloc[i+2]\n",
    "            labels1, input1, input2 = build_labels(input1, input2, labels)\n",
    "\n",
    "            input_batch.append([input1, input2])\n",
    "            output_batch.append(labels1)\n",
    "            i += 3\n",
    "        \n",
    "        \n",
    "        inputs = torch.from_numpy(np.asarray(input_batch)).float()\n",
    "        labels = torch.from_numpy(np.asarray(output_batch)).float()\n",
    "\n",
    "        res1, hidden1, hidden2, hidden3 = rnn.forward(inputs, hidden1, hidden2, hidden3)\n",
    "        to_plot = normalize_signal(res1.detach().numpy()[0][0])\n",
    "        to_plot2 = normalize_signal(input1)\n",
    "        # print(to_plot)\n",
    "        # plt.plot(range(len(to_plot2)), to_plot2)\n",
    "        # plt.plot(range(len(to_plot)), to_plot)\n",
    "        # plt.plot(range(len(labels1)), labels1)\n",
    "        # plt.legend()\n",
    "        # plt.show()\n",
    "\n",
    "        res = res1.squeeze()\n",
    "        optimizer.zero_grad()\n",
    "\n",
    "        # labels1 = 8*labels\n",
    "        loss = criterion(res, labels)\n",
    "        loss.backward( retain_graph=True)\n",
    "        optimizer.step()\n",
    "\n",
    "        running_loss += loss.item()\n",
    "        losses.append(loss.item())\n",
    "        steps.append(i)\n",
    "        if i % 100 == 99:    # print every 2000 mini-batches\n",
    "            print('[%d, %5d] loss: %.3f' % (epoch + 1, i + 1, running_loss / 100))\n",
    "                # running_loss = 0.0\n",
    "                # plt.plot(range(len(to_plot2)), to_plot2)\n",
    "                # plt.plot(range(len(to_plot)), to_plot)\n",
    "                # plt.plot(range(len(to_plot2)), to_plot2)\n",
    "                # plt.plot(range(len(labels1)), labels1)\n",
    "                # plt.legend()\n",
    "                # plt.show()\n",
    "\n",
    "        # i += 3\n",
    "    plt.plot(steps, losses)\n",
    "    print(np.shape(steps))\n",
    "    plt.show()\n"
   ]
  },
  {
   "cell_type": "code",
   "execution_count": 2,
   "metadata": {},
   "outputs": [
    {
     "name": "stdout",
     "output_type": "stream",
     "text": [
      "torch.Size([40, 2, 710])\n"
     ]
    },
    {
     "data": {
      "text/plain": [
       "[<matplotlib.lines.Line2D at 0xc4eb748>]"
      ]
     },
     "execution_count": 2,
     "metadata": {},
     "output_type": "execute_result"
    },
    {
     "data": {
      "image/png": "[encoded data removed]",
      "text/plain": [
       "<Figure size 432x288 with 1 Axes>"
      ]
     },
     "metadata": {
      "needs_background": "light"
     },
     "output_type": "display_data"
    }
   ],
   "source": [
    "res = rnn(inputs, hidden1, hidden2, hidden3)\n",
    "print(np.shape(inputs))\n",
    "plt.plot(inputs[0][1].data.numpy())\n",
    "plt.plot(res[0][0][0].data.numpy())\n",
    "plt.plot(labels[0].data.numpy())"
   ]
  },
  {
   "cell_type": "code",
   "execution_count": null,
   "metadata": {},
   "outputs": [],
   "source": []
  }
 ],
 "metadata": {
  "kernelspec": {
   "display_name": "Python 3",
   "language": "python",
   "name": "python3"
  },
  "language_info": {
   "codemirror_mode": {
    "name": "ipython",
    "version": 3
   },
   "file_extension": ".py",
   "mimetype": "text/x-python",
   "name": "python",
   "nbconvert_exporter": "python",
   "pygments_lexer": "ipython3",
   "version": "3.7.3"
  }
 },
 "nbformat": 4,
 "nbformat_minor": 2
}
