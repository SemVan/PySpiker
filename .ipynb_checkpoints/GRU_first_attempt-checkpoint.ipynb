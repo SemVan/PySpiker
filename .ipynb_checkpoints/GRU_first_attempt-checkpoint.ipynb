{
 "cells": [
  {
   "cell_type": "code",
   "execution_count": 1,
   "metadata": {},
   "outputs": [
    {
     "name": "stdout",
     "output_type": "stream",
     "text": [
      "RNN(\n",
      "  (gru): GRU(150, 150, num_layers=3, dropout=0.01)\n",
      "  (out): Linear(in_features=150, out_features=150, bias=True)\n",
      ")\n",
      "Epoch: 1/10............. Loss: 0.1414\n",
      "Epoch: 1/10............. Loss: 0.0820\n",
      "Epoch: 1/10............. Loss: 0.0980\n",
      "Epoch: 1/10............. Loss: 0.0249\n",
      "Epoch: 1/10............. Loss: 0.0236\n",
      "Epoch: 1/10............. Loss: 0.0246\n",
      "Epoch: 1/10............. Loss: 0.0090\n",
      "Epoch: 1/10............. Loss: 0.0102\n",
      "Epoch: 1/10............. Loss: 0.0152\n",
      "Epoch: 1/10............. Loss: 0.0112\n",
      "Epoch: 1/10............. Loss: 0.0039\n",
      "Epoch: 1/10............. Loss: 0.0041\n",
      "Epoch: 1/10............. Loss: 0.0056\n",
      "Epoch: 1/10............. Loss: 0.0081\n",
      "Epoch: 1/10............. Loss: 0.0068\n",
      "Epoch: 4/10............. Loss: 0.0028\n",
      "Epoch: 4/10............. Loss: 0.0040\n",
      "Epoch: 4/10............. Loss: 0.0032\n",
      "Epoch: 4/10............. Loss: 0.0040\n",
      "Epoch: 4/10............. Loss: 0.0033\n",
      "Epoch: 4/10............. Loss: 0.0054\n",
      "Epoch: 4/10............. Loss: 0.0030\n",
      "Epoch: 4/10............. Loss: 0.0023\n",
      "Epoch: 4/10............. Loss: 0.0031\n",
      "Epoch: 4/10............. Loss: 0.0021\n",
      "Epoch: 4/10............. Loss: 0.0026\n",
      "Epoch: 4/10............. Loss: 0.0051\n",
      "Epoch: 4/10............. Loss: 0.0047\n",
      "Epoch: 4/10............. Loss: 0.0034\n",
      "Epoch: 4/10............. Loss: 0.0026\n",
      "Epoch: 7/10............. Loss: 0.0039\n",
      "Epoch: 7/10............. Loss: 0.0037\n",
      "Epoch: 7/10............. Loss: 0.0046\n",
      "Epoch: 7/10............. Loss: 0.0042\n",
      "Epoch: 7/10............. Loss: 0.0046\n",
      "Epoch: 7/10............. Loss: 0.0028\n",
      "Epoch: 7/10............. Loss: 0.0028\n",
      "Epoch: 7/10............. Loss: 0.0041\n",
      "Epoch: 7/10............. Loss: 0.0017\n",
      "Epoch: 7/10............. Loss: 0.0044\n",
      "Epoch: 7/10............. Loss: 0.0027\n",
      "Epoch: 7/10............. Loss: 0.0022\n",
      "Epoch: 7/10............. Loss: 0.0015\n",
      "Epoch: 7/10............. Loss: 0.0062\n",
      "Epoch: 7/10............. Loss: 0.0053\n",
      "Epoch: 10/10............. Loss: 0.0034\n",
      "Epoch: 10/10............. Loss: 0.0023\n",
      "Epoch: 10/10............. Loss: 0.0056\n",
      "Epoch: 10/10............. Loss: 0.0033\n",
      "Epoch: 10/10............. Loss: 0.0038\n",
      "Epoch: 10/10............. Loss: 0.0030\n",
      "Epoch: 10/10............. Loss: 0.0034\n",
      "Epoch: 10/10............. Loss: 0.0028\n",
      "Epoch: 10/10............. Loss: 0.0054\n",
      "Epoch: 10/10............. Loss: 0.0037\n",
      "Epoch: 10/10............. Loss: 0.0035\n",
      "Epoch: 10/10............. Loss: 0.0024\n",
      "Epoch: 10/10............. Loss: 0.0022\n",
      "Epoch: 10/10............. Loss: 0.0033\n",
      "Epoch: 10/10............. Loss: 0.0039\n",
      "outputs torch.Size([1, 50, 150])\n",
      "hidden torch.Size([3, 50, 150])\n"
     ]
    }
   ],
   "source": [
    "from dataset_io import *\n",
    "import torch\n",
    "from torch import nn\n",
    "from torch.autograd import Variable\n",
    "\n",
    "#===========================================\n",
    "\n",
    "class RNN(nn.Module):\n",
    "    def __init__(self, input_size, hidden_size, output_size, n_layers=1):\n",
    "        super(RNN, self).__init__()\n",
    "        self.input_size = input_size\n",
    "        self.hidden_size = hidden_size\n",
    "        self.output_size = output_size\n",
    "        self.n_layers = n_layers\n",
    "\n",
    "        # self.c1 = nn.Conv1d(input_size, hidden_size, 2)\n",
    "        # self.p1 = nn.AvgPool1d(2)\n",
    "        # self.c2 = nn.Conv1d(hidden_size, hidden_size, 1)\n",
    "        # self.p2 = nn.AvgPool1d(2)\n",
    "        self.gru = nn.GRU(input_size, hidden_size, n_layers, dropout=0.01)\n",
    "        self.out = nn.Linear(hidden_size, output_size)\n",
    "\n",
    "    def forward(self, inputs, hidden):\n",
    "        batch_size = inputs.size(1)\n",
    "        \n",
    "        # Turn (seq_len x batch_size x input_size) into (batch_size x input_size x seq_len) for CNN\n",
    "        # inputs = inputs.transpose(0, 1).transpose(1, 2)\n",
    "\n",
    "        # Run through Conv1d and Pool1d layers\n",
    "        # c = self.c1(inputs)\n",
    "        # p = self.p1(c)\n",
    "        # c = self.c2(p)\n",
    "        # p = self.p2(c)\n",
    "        p = inputs\n",
    "\n",
    "        # Turn (batch_size x hidden_size x seq_len) back into (seq_len x batch_size x hidden_size) for RNN\n",
    "        # p = p.transpose(0,2)\n",
    "        \n",
    "        p = torch.tanh(p)\n",
    "        output, hidden = self.gru(p, hidden)\n",
    "        conv_seq_len = output.size(0)\n",
    "        output = output.view(conv_seq_len * batch_size, self.hidden_size) # Treating (conv_seq_len x batch_size) as batch_size for linear layer\n",
    "        output = torch.tanh(self.out(output))\n",
    "        output = output.view(conv_seq_len, -1, self.output_size)\n",
    "        return output, hidden\n",
    "    \n",
    "    def init_hidden(self, batch_size):\n",
    "        # This method generates the first hidden state of zeros which we'll use in the forward pass\n",
    "        # We'll send the tensor holding the hidden state to the device we specified earlier as well\n",
    "        hidden = torch.zeros(self.n_layers, batch_size, self.hidden_size)\n",
    "        return hidden\n",
    "\n",
    "#===================================================================\n",
    "    \n",
    "input_size = 150\n",
    "hidden_size = 150\n",
    "output_size = 150\n",
    "batch_size = 50\n",
    "n_layers = 3\n",
    "seq_len = 35\n",
    "n_epochs = 10\n",
    "\n",
    "rnn = RNN(input_size, hidden_size, output_size, n_layers=n_layers)\n",
    "print(rnn)\n",
    "rnn.to(torch.device(\"cpu\"))\n",
    "\n",
    "criterion = nn.MSELoss()                          #?????????????????????????????????\n",
    "optimizer = torch.optim.Adam(rnn.parameters(), lr=0.01)\n",
    "\n",
    "\n",
    "\n",
    "hidden = rnn.init_hidden(batch_size)\n",
    "\n",
    "for epoch in range(n_epochs):\n",
    "    signals = read_dataset(DATASET_NAME)\n",
    "    TrS, TsS = GRU_get_training_set(signals, input_size)\n",
    "    training_set = parse_set2(TrS, batch_size)\n",
    "    for (batch_tag, batch_in) in training_set:\n",
    "        inputs = Variable(torch.Tensor([batch_in]))\n",
    "        targets = Variable(torch.Tensor([batch_tag]))\n",
    "        optimizer.zero_grad() # Clears existing gradients from previous epoch\n",
    "        inputs.to(torch.device(\"cpu\"))\n",
    "        outputs, hidden = rnn(inputs,None)\n",
    "        loss = criterion(outputs, targets)\n",
    "        loss.backward() # Does backpropagation and calculates gradients\n",
    "        optimizer.step() # Updates the weights accordingly\n",
    "    \n",
    "        if epoch%3 == 0:\n",
    "            print('Epoch: {}/{}.............'.format(epoch+1, n_epochs), end=' ')\n",
    "            print(\"Loss: {:.4f}\".format(loss.item()))\n",
    "\n",
    "\n",
    "outputs, hidden = rnn(inputs, None)\n",
    "print('outputs', outputs.size()) # conv_seq_len x batch_size x output_size\n",
    "print('hidden', hidden.size()) # n_layers x batch_size x hidden_size"
   ]
  },
  {
   "cell_type": "code",
   "execution_count": 8,
   "metadata": {},
   "outputs": [
    {
     "name": "stdout",
     "output_type": "stream",
     "text": [
      "tensor([[[0.3733, 0.3797, 0.3794, 0.3774, 0.3711, 0.3760, 0.3713, 0.3755,\n",
      "          0.3735, 0.3712, 0.3777, 0.3728, 0.3711, 0.3730, 0.3726, 0.3711,\n",
      "          0.3712, 0.3730, 0.3743, 0.3717, 0.3791, 0.3740, 0.3718, 0.3787,\n",
      "          0.3748, 0.3752, 0.3745, 0.3783, 0.3801, 0.3790, 0.3816, 0.3785,\n",
      "          0.3806, 0.3851, 0.3780, 0.3775, 0.3764, 0.3741, 0.3831, 0.3771,\n",
      "          0.3803, 0.3796, 0.3841, 0.3779, 0.3774, 0.3803, 0.3768, 0.3785,\n",
      "          0.3777, 0.3780, 0.3812, 0.3753, 0.3780, 0.3772, 0.3789, 0.3738,\n",
      "          0.3756, 0.3714, 0.3726, 0.3740, 0.3742, 0.3798, 0.3763, 0.3795,\n",
      "          0.3793, 0.3748, 0.3801, 0.3733, 0.3755, 0.3743, 0.3733, 0.3824,\n",
      "          0.3771, 0.3780, 0.3750, 0.3811, 0.3792, 0.3761, 0.3794, 0.3733,\n",
      "          0.3782, 0.3740, 0.3814, 0.3787, 0.3811, 0.3744, 0.3768, 0.3782,\n",
      "          0.3730, 0.3782, 0.3786, 0.3773, 0.3767, 0.3719, 0.3835, 0.3719,\n",
      "          0.3766, 0.3760, 0.3836, 0.3768, 0.3798, 0.3792, 0.3809, 0.3754,\n",
      "          0.3795, 0.3694, 0.3765, 0.3777, 0.3728, 0.3728, 0.3749, 0.3756,\n",
      "          0.3736, 0.3759, 0.3754, 0.3772, 0.3707, 0.3757, 0.3773, 0.3768,\n",
      "          0.3775, 0.3782, 0.3747, 0.3800, 0.3746, 0.3811, 0.3818, 0.3768,\n",
      "          0.3794, 0.3792, 0.3756, 0.3810, 0.3809, 0.3803, 0.3823, 0.3760,\n",
      "          0.3775, 0.3813, 0.3802, 0.3767, 0.3750, 0.3819, 0.3747, 0.3749,\n",
      "          0.3833, 0.3739, 0.3793, 0.3808, 0.3780, 0.3804]]],\n",
      "       grad_fn=<ViewBackward>)\n",
      "[0.37331185 0.37967458 0.37944305 0.37738433 0.37110302 0.37604123\n",
      " 0.37129202 0.37551945 0.37351552 0.37124398 0.37766576 0.37276638\n",
      " 0.37105337 0.37297595 0.37259972 0.37113374 0.37123004 0.37300858\n",
      " 0.3742541  0.3716635  0.37914437 0.37397742 0.37177166 0.37872857\n",
      " 0.37479782 0.37524724 0.37451133 0.3783327  0.3801202  0.37903276\n",
      " 0.38160488 0.37845904 0.3806199  0.38514495 0.3780406  0.37752986\n",
      " 0.37643084 0.3741251  0.3831305  0.37709266 0.3802677  0.37957096\n",
      " 0.38412136 0.37786546 0.37744787 0.3803303  0.37683165 0.37848482\n",
      " 0.37769616 0.37804985 0.38119924 0.37525332 0.3779544  0.37715504\n",
      " 0.37887865 0.37380484 0.37556732 0.37136298 0.37263796 0.37396464\n",
      " 0.3742221  0.37982672 0.3763222  0.37946123 0.37931988 0.37478986\n",
      " 0.38014835 0.37330154 0.3754862  0.3742698  0.37325695 0.3824438\n",
      " 0.37712425 0.3779821  0.37501663 0.38114348 0.37924618 0.37607285\n",
      " 0.37937003 0.37328872 0.37817103 0.37403175 0.3813642  0.3787151\n",
      " 0.38105297 0.37440968 0.37680015 0.37818414 0.37296835 0.37815848\n",
      " 0.37859845 0.37727204 0.3766556  0.37189788 0.38354993 0.37194675\n",
      " 0.37664637 0.37600005 0.38361517 0.37680367 0.37979472 0.37918317\n",
      " 0.38088155 0.3754416  0.379498   0.36943293 0.3764548  0.37773794\n",
      " 0.37280196 0.37284166 0.37491345 0.3756401  0.37356007 0.37594882\n",
      " 0.37537098 0.37718505 0.3707408  0.37565506 0.37729335 0.37683105\n",
      " 0.37746504 0.3781753  0.37470096 0.37999016 0.3745879  0.3811088\n",
      " 0.38179532 0.37681243 0.3794383  0.37918377 0.37559432 0.3809693\n",
      " 0.38086048 0.38029188 0.3822616  0.3759851  0.37754852 0.38126\n",
      " 0.38017935 0.376727   0.3749835  0.38192508 0.37472692 0.3748697\n",
      " 0.38325396 0.37390795 0.37929228 0.38079697 0.3780164  0.38038227]\n",
      "(1, 1, 150)\n"
     ]
    }
   ],
   "source": [
    "out = rnn(torch.Tensor([[TrS[0][0]]]), None)\n",
    "print(out[0])\n",
    "out1 = out[0]\n",
    "out1 = out1.data.numpy()\n",
    "print(out1[0][0])\n",
    "print(out1.shape)"
   ]
  },
  {
   "cell_type": "code",
   "execution_count": 3,
   "metadata": {},
   "outputs": [],
   "source": [
    "from matplotlib import pyplot as plt"
   ]
  },
  {
   "cell_type": "code",
   "execution_count": 4,
   "metadata": {},
   "outputs": [
    {
     "name": "stdout",
     "output_type": "stream",
     "text": [
      "\n"
     ]
    },
    {
     "ename": "ValueError",
     "evalue": "x and y must have same first dimension, but have shapes (150,) and (2,)",
     "output_type": "error",
     "traceback": [
      "\u001b[1;31m---------------------------------------------------------------------------\u001b[0m",
      "\u001b[1;31mValueError\u001b[0m                                Traceback (most recent call last)",
      "\u001b[1;32m<ipython-input-4-be1802cf8fc3>\u001b[0m in \u001b[0;36m<module>\u001b[1;34m\u001b[0m\n\u001b[0;32m      2\u001b[0m \u001b[0my\u001b[0m \u001b[1;33m=\u001b[0m \u001b[1;33m[\u001b[0m\u001b[0mTsS\u001b[0m\u001b[1;33m[\u001b[0m\u001b[1;36m0\u001b[0m\u001b[1;33m]\u001b[0m\u001b[1;33m[\u001b[0m\u001b[1;36m1\u001b[0m\u001b[1;33m]\u001b[0m\u001b[1;33m,\u001b[0m\u001b[0mout\u001b[0m\u001b[1;33m]\u001b[0m\u001b[1;33m\u001b[0m\u001b[1;33m\u001b[0m\u001b[0m\n\u001b[0;32m      3\u001b[0m \u001b[0mprint\u001b[0m\u001b[1;33m(\u001b[0m\u001b[1;33m)\u001b[0m\u001b[1;33m\u001b[0m\u001b[1;33m\u001b[0m\u001b[0m\n\u001b[1;32m----> 4\u001b[1;33m \u001b[0mplt\u001b[0m\u001b[1;33m.\u001b[0m\u001b[0mplot\u001b[0m\u001b[1;33m(\u001b[0m\u001b[0mrange\u001b[0m\u001b[1;33m(\u001b[0m\u001b[1;36m150\u001b[0m\u001b[1;33m)\u001b[0m\u001b[1;33m,\u001b[0m \u001b[0mout\u001b[0m\u001b[1;33m)\u001b[0m\u001b[1;33m\u001b[0m\u001b[1;33m\u001b[0m\u001b[0m\n\u001b[0m\u001b[0;32m      5\u001b[0m \u001b[0mplt\u001b[0m\u001b[1;33m.\u001b[0m\u001b[0mstackplot\u001b[0m\u001b[1;33m(\u001b[0m\u001b[0mrange\u001b[0m\u001b[1;33m(\u001b[0m\u001b[1;36m150\u001b[0m\u001b[1;33m)\u001b[0m\u001b[1;33m,\u001b[0m \u001b[0my\u001b[0m\u001b[1;33m)\u001b[0m\u001b[1;33m\u001b[0m\u001b[1;33m\u001b[0m\u001b[0m\n",
      "\u001b[1;32mC:\\Conda\\lib\\site-packages\\matplotlib\\pyplot.py\u001b[0m in \u001b[0;36mplot\u001b[1;34m(scalex, scaley, data, *args, **kwargs)\u001b[0m\n\u001b[0;32m   2809\u001b[0m     return gca().plot(\n\u001b[0;32m   2810\u001b[0m         *args, scalex=scalex, scaley=scaley, **({\"data\": data} if data\n\u001b[1;32m-> 2811\u001b[1;33m         is not None else {}), **kwargs)\n\u001b[0m\u001b[0;32m   2812\u001b[0m \u001b[1;33m\u001b[0m\u001b[0m\n\u001b[0;32m   2813\u001b[0m \u001b[1;33m\u001b[0m\u001b[0m\n",
      "\u001b[1;32mC:\\Conda\\lib\\site-packages\\matplotlib\\__init__.py\u001b[0m in \u001b[0;36minner\u001b[1;34m(ax, data, *args, **kwargs)\u001b[0m\n\u001b[0;32m   1808\u001b[0m                         \u001b[1;34m\"the Matplotlib list!)\"\u001b[0m \u001b[1;33m%\u001b[0m \u001b[1;33m(\u001b[0m\u001b[0mlabel_namer\u001b[0m\u001b[1;33m,\u001b[0m \u001b[0mfunc\u001b[0m\u001b[1;33m.\u001b[0m\u001b[0m__name__\u001b[0m\u001b[1;33m)\u001b[0m\u001b[1;33m,\u001b[0m\u001b[1;33m\u001b[0m\u001b[1;33m\u001b[0m\u001b[0m\n\u001b[0;32m   1809\u001b[0m                         RuntimeWarning, stacklevel=2)\n\u001b[1;32m-> 1810\u001b[1;33m             \u001b[1;32mreturn\u001b[0m \u001b[0mfunc\u001b[0m\u001b[1;33m(\u001b[0m\u001b[0max\u001b[0m\u001b[1;33m,\u001b[0m \u001b[1;33m*\u001b[0m\u001b[0margs\u001b[0m\u001b[1;33m,\u001b[0m \u001b[1;33m**\u001b[0m\u001b[0mkwargs\u001b[0m\u001b[1;33m)\u001b[0m\u001b[1;33m\u001b[0m\u001b[1;33m\u001b[0m\u001b[0m\n\u001b[0m\u001b[0;32m   1811\u001b[0m \u001b[1;33m\u001b[0m\u001b[0m\n\u001b[0;32m   1812\u001b[0m         inner.__doc__ = _add_data_doc(inner.__doc__,\n",
      "\u001b[1;32mC:\\Conda\\lib\\site-packages\\matplotlib\\axes\\_axes.py\u001b[0m in \u001b[0;36mplot\u001b[1;34m(self, scalex, scaley, *args, **kwargs)\u001b[0m\n\u001b[0;32m   1609\u001b[0m         \u001b[0mkwargs\u001b[0m \u001b[1;33m=\u001b[0m \u001b[0mcbook\u001b[0m\u001b[1;33m.\u001b[0m\u001b[0mnormalize_kwargs\u001b[0m\u001b[1;33m(\u001b[0m\u001b[0mkwargs\u001b[0m\u001b[1;33m,\u001b[0m \u001b[0mmlines\u001b[0m\u001b[1;33m.\u001b[0m\u001b[0mLine2D\u001b[0m\u001b[1;33m.\u001b[0m\u001b[0m_alias_map\u001b[0m\u001b[1;33m)\u001b[0m\u001b[1;33m\u001b[0m\u001b[1;33m\u001b[0m\u001b[0m\n\u001b[0;32m   1610\u001b[0m \u001b[1;33m\u001b[0m\u001b[0m\n\u001b[1;32m-> 1611\u001b[1;33m         \u001b[1;32mfor\u001b[0m \u001b[0mline\u001b[0m \u001b[1;32min\u001b[0m \u001b[0mself\u001b[0m\u001b[1;33m.\u001b[0m\u001b[0m_get_lines\u001b[0m\u001b[1;33m(\u001b[0m\u001b[1;33m*\u001b[0m\u001b[0margs\u001b[0m\u001b[1;33m,\u001b[0m \u001b[1;33m**\u001b[0m\u001b[0mkwargs\u001b[0m\u001b[1;33m)\u001b[0m\u001b[1;33m:\u001b[0m\u001b[1;33m\u001b[0m\u001b[1;33m\u001b[0m\u001b[0m\n\u001b[0m\u001b[0;32m   1612\u001b[0m             \u001b[0mself\u001b[0m\u001b[1;33m.\u001b[0m\u001b[0madd_line\u001b[0m\u001b[1;33m(\u001b[0m\u001b[0mline\u001b[0m\u001b[1;33m)\u001b[0m\u001b[1;33m\u001b[0m\u001b[1;33m\u001b[0m\u001b[0m\n\u001b[0;32m   1613\u001b[0m             \u001b[0mlines\u001b[0m\u001b[1;33m.\u001b[0m\u001b[0mappend\u001b[0m\u001b[1;33m(\u001b[0m\u001b[0mline\u001b[0m\u001b[1;33m)\u001b[0m\u001b[1;33m\u001b[0m\u001b[1;33m\u001b[0m\u001b[0m\n",
      "\u001b[1;32mC:\\Conda\\lib\\site-packages\\matplotlib\\axes\\_base.py\u001b[0m in \u001b[0;36m_grab_next_args\u001b[1;34m(self, *args, **kwargs)\u001b[0m\n\u001b[0;32m    391\u001b[0m                 \u001b[0mthis\u001b[0m \u001b[1;33m+=\u001b[0m \u001b[0margs\u001b[0m\u001b[1;33m[\u001b[0m\u001b[1;36m0\u001b[0m\u001b[1;33m]\u001b[0m\u001b[1;33m,\u001b[0m\u001b[1;33m\u001b[0m\u001b[1;33m\u001b[0m\u001b[0m\n\u001b[0;32m    392\u001b[0m                 \u001b[0margs\u001b[0m \u001b[1;33m=\u001b[0m \u001b[0margs\u001b[0m\u001b[1;33m[\u001b[0m\u001b[1;36m1\u001b[0m\u001b[1;33m:\u001b[0m\u001b[1;33m]\u001b[0m\u001b[1;33m\u001b[0m\u001b[1;33m\u001b[0m\u001b[0m\n\u001b[1;32m--> 393\u001b[1;33m             \u001b[1;32myield\u001b[0m \u001b[1;32mfrom\u001b[0m \u001b[0mself\u001b[0m\u001b[1;33m.\u001b[0m\u001b[0m_plot_args\u001b[0m\u001b[1;33m(\u001b[0m\u001b[0mthis\u001b[0m\u001b[1;33m,\u001b[0m \u001b[0mkwargs\u001b[0m\u001b[1;33m)\u001b[0m\u001b[1;33m\u001b[0m\u001b[1;33m\u001b[0m\u001b[0m\n\u001b[0m\u001b[0;32m    394\u001b[0m \u001b[1;33m\u001b[0m\u001b[0m\n\u001b[0;32m    395\u001b[0m \u001b[1;33m\u001b[0m\u001b[0m\n",
      "\u001b[1;32mC:\\Conda\\lib\\site-packages\\matplotlib\\axes\\_base.py\u001b[0m in \u001b[0;36m_plot_args\u001b[1;34m(self, tup, kwargs)\u001b[0m\n\u001b[0;32m    368\u001b[0m             \u001b[0mx\u001b[0m\u001b[1;33m,\u001b[0m \u001b[0my\u001b[0m \u001b[1;33m=\u001b[0m \u001b[0mindex_of\u001b[0m\u001b[1;33m(\u001b[0m\u001b[0mtup\u001b[0m\u001b[1;33m[\u001b[0m\u001b[1;33m-\u001b[0m\u001b[1;36m1\u001b[0m\u001b[1;33m]\u001b[0m\u001b[1;33m)\u001b[0m\u001b[1;33m\u001b[0m\u001b[1;33m\u001b[0m\u001b[0m\n\u001b[0;32m    369\u001b[0m \u001b[1;33m\u001b[0m\u001b[0m\n\u001b[1;32m--> 370\u001b[1;33m         \u001b[0mx\u001b[0m\u001b[1;33m,\u001b[0m \u001b[0my\u001b[0m \u001b[1;33m=\u001b[0m \u001b[0mself\u001b[0m\u001b[1;33m.\u001b[0m\u001b[0m_xy_from_xy\u001b[0m\u001b[1;33m(\u001b[0m\u001b[0mx\u001b[0m\u001b[1;33m,\u001b[0m \u001b[0my\u001b[0m\u001b[1;33m)\u001b[0m\u001b[1;33m\u001b[0m\u001b[1;33m\u001b[0m\u001b[0m\n\u001b[0m\u001b[0;32m    371\u001b[0m \u001b[1;33m\u001b[0m\u001b[0m\n\u001b[0;32m    372\u001b[0m         \u001b[1;32mif\u001b[0m \u001b[0mself\u001b[0m\u001b[1;33m.\u001b[0m\u001b[0mcommand\u001b[0m \u001b[1;33m==\u001b[0m \u001b[1;34m'plot'\u001b[0m\u001b[1;33m:\u001b[0m\u001b[1;33m\u001b[0m\u001b[1;33m\u001b[0m\u001b[0m\n",
      "\u001b[1;32mC:\\Conda\\lib\\site-packages\\matplotlib\\axes\\_base.py\u001b[0m in \u001b[0;36m_xy_from_xy\u001b[1;34m(self, x, y)\u001b[0m\n\u001b[0;32m    229\u001b[0m         \u001b[1;32mif\u001b[0m \u001b[0mx\u001b[0m\u001b[1;33m.\u001b[0m\u001b[0mshape\u001b[0m\u001b[1;33m[\u001b[0m\u001b[1;36m0\u001b[0m\u001b[1;33m]\u001b[0m \u001b[1;33m!=\u001b[0m \u001b[0my\u001b[0m\u001b[1;33m.\u001b[0m\u001b[0mshape\u001b[0m\u001b[1;33m[\u001b[0m\u001b[1;36m0\u001b[0m\u001b[1;33m]\u001b[0m\u001b[1;33m:\u001b[0m\u001b[1;33m\u001b[0m\u001b[1;33m\u001b[0m\u001b[0m\n\u001b[0;32m    230\u001b[0m             raise ValueError(\"x and y must have same first dimension, but \"\n\u001b[1;32m--> 231\u001b[1;33m                              \"have shapes {} and {}\".format(x.shape, y.shape))\n\u001b[0m\u001b[0;32m    232\u001b[0m         \u001b[1;32mif\u001b[0m \u001b[0mx\u001b[0m\u001b[1;33m.\u001b[0m\u001b[0mndim\u001b[0m \u001b[1;33m>\u001b[0m \u001b[1;36m2\u001b[0m \u001b[1;32mor\u001b[0m \u001b[0my\u001b[0m\u001b[1;33m.\u001b[0m\u001b[0mndim\u001b[0m \u001b[1;33m>\u001b[0m \u001b[1;36m2\u001b[0m\u001b[1;33m:\u001b[0m\u001b[1;33m\u001b[0m\u001b[1;33m\u001b[0m\u001b[0m\n\u001b[0;32m    233\u001b[0m             raise ValueError(\"x and y can be no greater than 2-D, but have \"\n",
      "\u001b[1;31mValueError\u001b[0m: x and y must have same first dimension, but have shapes (150,) and (2,)"
     ]
    },
    {
     "data": {
      "image/png": "[encoded data removed]",
      "text/plain": [
       "<Figure size 432x288 with 1 Axes>"
      ]
     },
     "metadata": {
      "needs_background": "light"
     },
     "output_type": "display_data"
    }
   ],
   "source": [
    "# y = np.asarray([TsS[0][1],out])\n",
    "y = [TsS[0][1],out]\n",
    "print()\n",
    "plt.plot(range(150), out)\n",
    "plt.stackplot(range(150), y)"
   ]
  },
  {
   "cell_type": "code",
   "execution_count": 9,
   "metadata": {},
   "outputs": [
    {
     "data": {
      "text/plain": [
       "[<matplotlib.lines.Line2D at 0xff89710>]"
      ]
     },
     "execution_count": 9,
     "metadata": {},
     "output_type": "execute_result"
    },
    {
     "data": {
      "image/png": "[encoded data removed]",
      "text/plain": [
       "<Figure size 432x288 with 1 Axes>"
      ]
     },
     "metadata": {
      "needs_background": "light"
     },
     "output_type": "display_data"
    }
   ],
   "source": [
    "x = range(150)\n",
    "y = [TrS[0][0], out1[0][0]]\n",
    "plt.plot(x,y[0])\n",
    "plt.plot(x,y[1])\n",
    "#plt.plot(x, TsS[0][0]/1380)"
   ]
  },
  {
   "cell_type": "code",
   "execution_count": null,
   "metadata": {},
   "outputs": [],
   "source": []
  }
 ],
 "metadata": {
  "kernelspec": {
   "display_name": "Python 3",
   "language": "python",
   "name": "python3"
  },
  "language_info": {
   "codemirror_mode": {
    "name": "ipython",
    "version": 3
   },
   "file_extension": ".py",
   "mimetype": "text/x-python",
   "name": "python",
   "nbconvert_exporter": "python",
   "pygments_lexer": "ipython3",
   "version": "3.7.3"
  }
 },
 "nbformat": 4,
 "nbformat_minor": 2
}
